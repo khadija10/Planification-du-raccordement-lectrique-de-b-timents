{
 "cells": [
  {
   "cell_type": "markdown",
   "id": "164af365",
   "metadata": {},
   "source": [
    "# Analyse statistique Projet Reparation infra"
   ]
  },
  {
   "cell_type": "code",
   "execution_count": 1,
   "id": "6169a909",
   "metadata": {},
   "outputs": [],
   "source": [
    "#import des bibliotheque\n",
    "import pandas as pd\n",
    "import numpy as pn\n",
    "import matplotlib.pyplot as plt\n",
    "import seaborn as sns\n"
   ]
  },
  {
   "cell_type": "code",
   "execution_count": 2,
   "id": "1cf9f211",
   "metadata": {},
   "outputs": [
    {
     "data": {
      "text/html": [
       "<div>\n",
       "<style scoped>\n",
       "    .dataframe tbody tr th:only-of-type {\n",
       "        vertical-align: middle;\n",
       "    }\n",
       "\n",
       "    .dataframe tbody tr th {\n",
       "        vertical-align: top;\n",
       "    }\n",
       "\n",
       "    .dataframe thead th {\n",
       "        text-align: right;\n",
       "    }\n",
       "</style>\n",
       "<table border=\"1\" class=\"dataframe\">\n",
       "  <thead>\n",
       "    <tr style=\"text-align: right;\">\n",
       "      <th></th>\n",
       "      <th>id_batiment</th>\n",
       "      <th>nb_maisons</th>\n",
       "      <th>infra_id</th>\n",
       "      <th>infra_type</th>\n",
       "      <th>longueur</th>\n",
       "    </tr>\n",
       "  </thead>\n",
       "  <tbody>\n",
       "    <tr>\n",
       "      <th>0</th>\n",
       "      <td>E000001</td>\n",
       "      <td>4</td>\n",
       "      <td>P007111</td>\n",
       "      <td>infra_intacte</td>\n",
       "      <td>12.314461</td>\n",
       "    </tr>\n",
       "    <tr>\n",
       "      <th>1</th>\n",
       "      <td>E000001</td>\n",
       "      <td>4</td>\n",
       "      <td>P007983</td>\n",
       "      <td>infra_intacte</td>\n",
       "      <td>40.320929</td>\n",
       "    </tr>\n",
       "    <tr>\n",
       "      <th>2</th>\n",
       "      <td>E000001</td>\n",
       "      <td>4</td>\n",
       "      <td>P000308</td>\n",
       "      <td>infra_intacte</td>\n",
       "      <td>39.140799</td>\n",
       "    </tr>\n",
       "    <tr>\n",
       "      <th>3</th>\n",
       "      <td>E000001</td>\n",
       "      <td>4</td>\n",
       "      <td>P007819</td>\n",
       "      <td>infra_intacte</td>\n",
       "      <td>17.390464</td>\n",
       "    </tr>\n",
       "    <tr>\n",
       "      <th>4</th>\n",
       "      <td>E000002</td>\n",
       "      <td>1</td>\n",
       "      <td>P007111</td>\n",
       "      <td>infra_intacte</td>\n",
       "      <td>12.314461</td>\n",
       "    </tr>\n",
       "    <tr>\n",
       "      <th>5</th>\n",
       "      <td>E000002</td>\n",
       "      <td>1</td>\n",
       "      <td>P007983</td>\n",
       "      <td>infra_intacte</td>\n",
       "      <td>40.320929</td>\n",
       "    </tr>\n",
       "    <tr>\n",
       "      <th>6</th>\n",
       "      <td>E000002</td>\n",
       "      <td>1</td>\n",
       "      <td>P000308</td>\n",
       "      <td>infra_intacte</td>\n",
       "      <td>39.140799</td>\n",
       "    </tr>\n",
       "    <tr>\n",
       "      <th>7</th>\n",
       "      <td>E000002</td>\n",
       "      <td>1</td>\n",
       "      <td>P007240</td>\n",
       "      <td>infra_intacte</td>\n",
       "      <td>10.914626</td>\n",
       "    </tr>\n",
       "    <tr>\n",
       "      <th>8</th>\n",
       "      <td>E000003</td>\n",
       "      <td>1</td>\n",
       "      <td>P007111</td>\n",
       "      <td>infra_intacte</td>\n",
       "      <td>12.314461</td>\n",
       "    </tr>\n",
       "    <tr>\n",
       "      <th>9</th>\n",
       "      <td>E000003</td>\n",
       "      <td>1</td>\n",
       "      <td>P007111</td>\n",
       "      <td>infra_intacte</td>\n",
       "      <td>12.314461</td>\n",
       "    </tr>\n",
       "  </tbody>\n",
       "</table>\n",
       "</div>"
      ],
      "text/plain": [
       "  id_batiment  nb_maisons infra_id     infra_type   longueur\n",
       "0     E000001           4  P007111  infra_intacte  12.314461\n",
       "1     E000001           4  P007983  infra_intacte  40.320929\n",
       "2     E000001           4  P000308  infra_intacte  39.140799\n",
       "3     E000001           4  P007819  infra_intacte  17.390464\n",
       "4     E000002           1  P007111  infra_intacte  12.314461\n",
       "5     E000002           1  P007983  infra_intacte  40.320929\n",
       "6     E000002           1  P000308  infra_intacte  39.140799\n",
       "7     E000002           1  P007240  infra_intacte  10.914626\n",
       "8     E000003           1  P007111  infra_intacte  12.314461\n",
       "9     E000003           1  P007111  infra_intacte  12.314461"
      ]
     },
     "execution_count": 2,
     "metadata": {},
     "output_type": "execute_result"
    }
   ],
   "source": [
    "#Lecture de notre dataframe\n",
    "df = pd.read_excel(\"reseau_en_arbre.xlsx\")\n",
    "df.head(10)"
   ]
  },
  {
   "cell_type": "code",
   "execution_count": 3,
   "id": "70b31e10",
   "metadata": {},
   "outputs": [
    {
     "data": {
      "text/plain": [
       "(6107, 5)"
      ]
     },
     "execution_count": 3,
     "metadata": {},
     "output_type": "execute_result"
    }
   ],
   "source": [
    "#compter le nombre de ligne colonnes dans le Dataframe\n",
    "df.shape"
   ]
  },
  {
   "cell_type": "code",
   "execution_count": 4,
   "id": "990e23fe",
   "metadata": {},
   "outputs": [
    {
     "name": "stdout",
     "output_type": "stream",
     "text": [
      "Nous avons : 6107 Lignes\n",
      "et 5 Colones\n"
     ]
    }
   ],
   "source": [
    "print(\"Nous avons : 6107 Lignes\\net 5 Colones\")"
   ]
  },
  {
   "cell_type": "code",
   "execution_count": 5,
   "id": "257d4f7e",
   "metadata": {},
   "outputs": [
    {
     "data": {
      "text/plain": [
       "521"
      ]
     },
     "execution_count": 5,
     "metadata": {},
     "output_type": "execute_result"
    }
   ],
   "source": [
    "#Verification de nombre de doublons dans notre DataFrame de Depart\n",
    "df.duplicated().sum()"
   ]
  },
  {
   "cell_type": "code",
   "execution_count": 6,
   "id": "8084e693",
   "metadata": {},
   "outputs": [
    {
     "name": "stdout",
     "output_type": "stream",
     "text": [
      "Nous avons au total dans notre DataFrame pour\n",
      "Chaque colone:\n",
      " id_batiment    0\n",
      "nb_maisons     0\n",
      "infra_id       0\n",
      "infra_type     0\n",
      "longueur       0\n",
      "dtype: int64\n"
     ]
    }
   ],
   "source": [
    "#Verification des Valeurs manquantes\n",
    "print(\"Nous avons au total dans notre DataFrame pour\\nChaque colone:\\n\",df.isna().sum())"
   ]
  },
  {
   "cell_type": "markdown",
   "id": "43475f7c",
   "metadata": {},
   "source": [
    "#supression des doublants"
   ]
  },
  {
   "cell_type": "code",
   "execution_count": 7,
   "id": "794ad176",
   "metadata": {},
   "outputs": [],
   "source": [
    "#Creation d'un Nouveau DataFrame sans doublant\n",
    "df_prop = df.drop_duplicates()"
   ]
  },
  {
   "cell_type": "code",
   "execution_count": 8,
   "id": "82e91cc2",
   "metadata": {},
   "outputs": [
    {
     "name": "stdout",
     "output_type": "stream",
     "text": [
      "Nous avons Maintenant:\n",
      " (5586, 5)\n"
     ]
    }
   ],
   "source": [
    "#Verification du nouveau dataframe\n",
    "print(\"Nous avons Maintenant:\\n\",df_prop.shape)"
   ]
  },
  {
   "cell_type": "code",
   "execution_count": 9,
   "id": "237e4ff3",
   "metadata": {},
   "outputs": [
    {
     "data": {
      "image/png": "[encoded data removed]",
      "text/plain": [
       "<Figure size 640x480 with 1 Axes>"
      ]
     },
     "metadata": {},
     "output_type": "display_data"
    }
   ],
   "source": [
    "#premiere visualisation du de type_infra\n",
    "\n",
    "df_prop['infra_type'].value_counts().plot(kind='bar', color=[\"green\",\"red\"])\n",
    "\n",
    "plt.title(\"Répartition des types d'infrastructures\")\n",
    "plt.xlabel(\"Type d'infrastructure\")\n",
    "plt.ylabel(\"Nombre d'occurrences\")\n",
    "plt.show()"
   ]
  },
  {
   "cell_type": "code",
   "execution_count": 10,
   "id": "4ea2387d",
   "metadata": {},
   "outputs": [
    {
     "data": {
      "text/html": [
       "<div>\n",
       "<style scoped>\n",
       "    .dataframe tbody tr th:only-of-type {\n",
       "        vertical-align: middle;\n",
       "    }\n",
       "\n",
       "    .dataframe tbody tr th {\n",
       "        vertical-align: top;\n",
       "    }\n",
       "\n",
       "    .dataframe thead th {\n",
       "        text-align: right;\n",
       "    }\n",
       "</style>\n",
       "<table border=\"1\" class=\"dataframe\">\n",
       "  <thead>\n",
       "    <tr style=\"text-align: right;\">\n",
       "      <th></th>\n",
       "      <th>nb_maisons</th>\n",
       "      <th>longueur</th>\n",
       "    </tr>\n",
       "  </thead>\n",
       "  <tbody>\n",
       "    <tr>\n",
       "      <th>count</th>\n",
       "      <td>5586.000000</td>\n",
       "      <td>5586.000000</td>\n",
       "    </tr>\n",
       "    <tr>\n",
       "      <th>mean</th>\n",
       "      <td>1.017723</td>\n",
       "      <td>28.948048</td>\n",
       "    </tr>\n",
       "    <tr>\n",
       "      <th>std</th>\n",
       "      <td>0.212941</td>\n",
       "      <td>21.370862</td>\n",
       "    </tr>\n",
       "    <tr>\n",
       "      <th>min</th>\n",
       "      <td>1.000000</td>\n",
       "      <td>0.372684</td>\n",
       "    </tr>\n",
       "    <tr>\n",
       "      <th>25%</th>\n",
       "      <td>1.000000</td>\n",
       "      <td>8.476727</td>\n",
       "    </tr>\n",
       "    <tr>\n",
       "      <th>50%</th>\n",
       "      <td>1.000000</td>\n",
       "      <td>27.234813</td>\n",
       "    </tr>\n",
       "    <tr>\n",
       "      <th>75%</th>\n",
       "      <td>1.000000</td>\n",
       "      <td>49.871725</td>\n",
       "    </tr>\n",
       "    <tr>\n",
       "      <th>max</th>\n",
       "      <td>4.000000</td>\n",
       "      <td>76.985593</td>\n",
       "    </tr>\n",
       "  </tbody>\n",
       "</table>\n",
       "</div>"
      ],
      "text/plain": [
       "        nb_maisons     longueur\n",
       "count  5586.000000  5586.000000\n",
       "mean      1.017723    28.948048\n",
       "std       0.212941    21.370862\n",
       "min       1.000000     0.372684\n",
       "25%       1.000000     8.476727\n",
       "50%       1.000000    27.234813\n",
       "75%       1.000000    49.871725\n",
       "max       4.000000    76.985593"
      ]
     },
     "execution_count": 10,
     "metadata": {},
     "output_type": "execute_result"
    }
   ],
   "source": [
    "#Analyse descriptive de Notre Jeu de Donnée Propre\n",
    "df_prop.describe()"
   ]
  },
  {
   "cell_type": "code",
   "execution_count": 11,
   "id": "5f7e75aa",
   "metadata": {},
   "outputs": [
    {
     "data": {
      "text/html": [
       "<div>\n",
       "<style scoped>\n",
       "    .dataframe tbody tr th:only-of-type {\n",
       "        vertical-align: middle;\n",
       "    }\n",
       "\n",
       "    .dataframe tbody tr th {\n",
       "        vertical-align: top;\n",
       "    }\n",
       "\n",
       "    .dataframe thead th {\n",
       "        text-align: right;\n",
       "    }\n",
       "</style>\n",
       "<table border=\"1\" class=\"dataframe\">\n",
       "  <thead>\n",
       "    <tr style=\"text-align: right;\">\n",
       "      <th></th>\n",
       "      <th>id_batiment</th>\n",
       "      <th>infra_id</th>\n",
       "      <th>infra_type</th>\n",
       "    </tr>\n",
       "  </thead>\n",
       "  <tbody>\n",
       "    <tr>\n",
       "      <th>count</th>\n",
       "      <td>5586</td>\n",
       "      <td>5586</td>\n",
       "      <td>5586</td>\n",
       "    </tr>\n",
       "    <tr>\n",
       "      <th>unique</th>\n",
       "      <td>381</td>\n",
       "      <td>644</td>\n",
       "      <td>2</td>\n",
       "    </tr>\n",
       "    <tr>\n",
       "      <th>top</th>\n",
       "      <td>E000381</td>\n",
       "      <td>P007111</td>\n",
       "      <td>infra_intacte</td>\n",
       "    </tr>\n",
       "    <tr>\n",
       "      <th>freq</th>\n",
       "      <td>30</td>\n",
       "      <td>381</td>\n",
       "      <td>5049</td>\n",
       "    </tr>\n",
       "  </tbody>\n",
       "</table>\n",
       "</div>"
      ],
      "text/plain": [
       "       id_batiment infra_id     infra_type\n",
       "count         5586     5586           5586\n",
       "unique         381      644              2\n",
       "top        E000381  P007111  infra_intacte\n",
       "freq            30      381           5049"
      ]
     },
     "execution_count": 11,
     "metadata": {},
     "output_type": "execute_result"
    }
   ],
   "source": [
    "#Analyse descriptive de Variable Categorielle\n",
    "df_prop.describe(include=\"object\")"
   ]
  },
  {
   "cell_type": "code",
   "execution_count": 12,
   "id": "775f8900",
   "metadata": {},
   "outputs": [],
   "source": [
    "#Verification de nombre de infra qui sont en bon etat sur notre nouveau DataFrame\n",
    "df_intacte = df_prop[df_prop[\"infra_type\"]==\"infra_intacte\"]"
   ]
  },
  {
   "cell_type": "code",
   "execution_count": 14,
   "id": "a83da4a9",
   "metadata": {
    "scrolled": true
   },
   "outputs": [
    {
     "data": {
      "text/html": [
       "<div>\n",
       "<style scoped>\n",
       "    .dataframe tbody tr th:only-of-type {\n",
       "        vertical-align: middle;\n",
       "    }\n",
       "\n",
       "    .dataframe tbody tr th {\n",
       "        vertical-align: top;\n",
       "    }\n",
       "\n",
       "    .dataframe thead th {\n",
       "        text-align: right;\n",
       "    }\n",
       "</style>\n",
       "<table border=\"1\" class=\"dataframe\">\n",
       "  <thead>\n",
       "    <tr style=\"text-align: right;\">\n",
       "      <th></th>\n",
       "      <th>id_batiment</th>\n",
       "      <th>infra_id</th>\n",
       "      <th>infra_type</th>\n",
       "    </tr>\n",
       "  </thead>\n",
       "  <tbody>\n",
       "    <tr>\n",
       "      <th>count</th>\n",
       "      <td>5049</td>\n",
       "      <td>5049</td>\n",
       "      <td>5049</td>\n",
       "    </tr>\n",
       "    <tr>\n",
       "      <th>unique</th>\n",
       "      <td>381</td>\n",
       "      <td>447</td>\n",
       "      <td>1</td>\n",
       "    </tr>\n",
       "    <tr>\n",
       "      <th>top</th>\n",
       "      <td>E000330</td>\n",
       "      <td>P007111</td>\n",
       "      <td>infra_intacte</td>\n",
       "    </tr>\n",
       "    <tr>\n",
       "      <th>freq</th>\n",
       "      <td>24</td>\n",
       "      <td>381</td>\n",
       "      <td>5049</td>\n",
       "    </tr>\n",
       "  </tbody>\n",
       "</table>\n",
       "</div>"
      ],
      "text/plain": [
       "       id_batiment infra_id     infra_type\n",
       "count         5049     5049           5049\n",
       "unique         381      447              1\n",
       "top        E000330  P007111  infra_intacte\n",
       "freq            24      381           5049"
      ]
     },
     "execution_count": 14,
     "metadata": {},
     "output_type": "execute_result"
    }
   ],
   "source": [
    "df_intacte.describe(include = \"object\")"
   ]
  },
  {
   "cell_type": "code",
   "execution_count": 16,
   "id": "43dde2fb",
   "metadata": {},
   "outputs": [],
   "source": [
    "#Analyse de remplacement\n",
    "df_remplacer  = df_prop[df_prop[\"infra_type\"]==\"a_remplacer\"]"
   ]
  },
  {
   "cell_type": "code",
   "execution_count": 17,
   "id": "f08e4eee",
   "metadata": {},
   "outputs": [
    {
     "data": {
      "image/png": "[encoded data removed]",
      "text/plain": [
       "<Figure size 1000x600 with 1 Axes>"
      ]
     },
     "metadata": {},
     "output_type": "display_data"
    }
   ],
   "source": [
    "# visualisation de la longeur des des infra structure en fonction du type d'infra\n",
    "#Selon qu'il est à remplacer ou intact\n",
    "df_intacte = df_intacte.sort_values(by='longueur')\n",
    "df_remplacer = df_remplacer.sort_values(by='longueur')\n",
    "\n",
    "# Tracer les deux courbes\n",
    "plt.figure(figsize=(10,6))\n",
    "plt.plot(df_intacte['longueur'].values, label='infra_intacte', linewidth=2)\n",
    "plt.plot(df_remplacer['longueur'].values, label='a_remplacer', linewidth=2)\n",
    "\n",
    "plt.title(\"Comparaison des longueurs selon le type d'infrastructure\")\n",
    "plt.xlabel(\"Index\")\n",
    "plt.ylabel(\"Longueur\")\n",
    "plt.legend()\n",
    "plt.show()"
   ]
  },
  {
   "cell_type": "code",
   "execution_count": 18,
   "id": "76137b91",
   "metadata": {},
   "outputs": [
    {
     "name": "stdout",
     "output_type": "stream",
     "text": [
      "Longueur totale à remplacer : 5227.14 mètres\n"
     ]
    }
   ],
   "source": [
    "#Calcule de la longeure totale des infra à remplacer\n",
    "long_a_remplacer = df_prop.loc[df['infra_type'] == 'a_remplacer', 'longueur'].sum()\n",
    "print(f\"Longueur totale à remplacer : {long_a_remplacer:.2f} mètres\")"
   ]
  },
  {
   "cell_type": "code",
   "execution_count": 19,
   "id": "c5d04250",
   "metadata": {},
   "outputs": [
    {
     "name": "stdout",
     "output_type": "stream",
     "text": [
      "Il nous faut donc:\n",
      " 5227.135708063434 mettre\n",
      "Pour resoudre notre probleme d'aprés notre premier df\n"
     ]
    }
   ],
   "source": [
    "print(\"Il nous faut donc:\\n\",long_a_remplacer,\"mettre\\nPour resoudre notre probleme d'aprés notre premier df\")"
   ]
  },
  {
   "cell_type": "markdown",
   "id": "0660fc8c",
   "metadata": {},
   "source": [
    "# Analyse sur le DataFame à Remplacer"
   ]
  },
  {
   "cell_type": "code",
   "execution_count": 20,
   "id": "2c192fd6",
   "metadata": {},
   "outputs": [],
   "source": [
    "#Creation du DataFrame à Remplacer\n",
    "df_remplacer = df_prop[df_prop[\"infra_type\"]==\"a_remplacer\"]"
   ]
  },
  {
   "cell_type": "code",
   "execution_count": 21,
   "id": "8b04b653",
   "metadata": {},
   "outputs": [
    {
     "data": {
      "text/html": [
       "<div>\n",
       "<style scoped>\n",
       "    .dataframe tbody tr th:only-of-type {\n",
       "        vertical-align: middle;\n",
       "    }\n",
       "\n",
       "    .dataframe tbody tr th {\n",
       "        vertical-align: top;\n",
       "    }\n",
       "\n",
       "    .dataframe thead th {\n",
       "        text-align: right;\n",
       "    }\n",
       "</style>\n",
       "<table border=\"1\" class=\"dataframe\">\n",
       "  <thead>\n",
       "    <tr style=\"text-align: right;\">\n",
       "      <th></th>\n",
       "      <th>nb_maisons</th>\n",
       "      <th>longueur</th>\n",
       "    </tr>\n",
       "  </thead>\n",
       "  <tbody>\n",
       "    <tr>\n",
       "      <th>count</th>\n",
       "      <td>537.0</td>\n",
       "      <td>537.000000</td>\n",
       "    </tr>\n",
       "    <tr>\n",
       "      <th>mean</th>\n",
       "      <td>1.0</td>\n",
       "      <td>9.733958</td>\n",
       "    </tr>\n",
       "    <tr>\n",
       "      <th>std</th>\n",
       "      <td>0.0</td>\n",
       "      <td>6.277592</td>\n",
       "    </tr>\n",
       "    <tr>\n",
       "      <th>min</th>\n",
       "      <td>1.0</td>\n",
       "      <td>0.372684</td>\n",
       "    </tr>\n",
       "    <tr>\n",
       "      <th>25%</th>\n",
       "      <td>1.0</td>\n",
       "      <td>5.627008</td>\n",
       "    </tr>\n",
       "    <tr>\n",
       "      <th>50%</th>\n",
       "      <td>1.0</td>\n",
       "      <td>8.821487</td>\n",
       "    </tr>\n",
       "    <tr>\n",
       "      <th>75%</th>\n",
       "      <td>1.0</td>\n",
       "      <td>10.787139</td>\n",
       "    </tr>\n",
       "    <tr>\n",
       "      <th>max</th>\n",
       "      <td>1.0</td>\n",
       "      <td>42.114422</td>\n",
       "    </tr>\n",
       "  </tbody>\n",
       "</table>\n",
       "</div>"
      ],
      "text/plain": [
       "       nb_maisons    longueur\n",
       "count       537.0  537.000000\n",
       "mean          1.0    9.733958\n",
       "std           0.0    6.277592\n",
       "min           1.0    0.372684\n",
       "25%           1.0    5.627008\n",
       "50%           1.0    8.821487\n",
       "75%           1.0   10.787139\n",
       "max           1.0   42.114422"
      ]
     },
     "execution_count": 21,
     "metadata": {},
     "output_type": "execute_result"
    }
   ],
   "source": [
    "#Analyse statistique sur les variable\n",
    "df_remplacer.describe()"
   ]
  },
  {
   "cell_type": "code",
   "execution_count": 22,
   "id": "c19c0fbf",
   "metadata": {},
   "outputs": [
    {
     "data": {
      "text/html": [
       "<div>\n",
       "<style scoped>\n",
       "    .dataframe tbody tr th:only-of-type {\n",
       "        vertical-align: middle;\n",
       "    }\n",
       "\n",
       "    .dataframe tbody tr th {\n",
       "        vertical-align: top;\n",
       "    }\n",
       "\n",
       "    .dataframe thead th {\n",
       "        text-align: right;\n",
       "    }\n",
       "</style>\n",
       "<table border=\"1\" class=\"dataframe\">\n",
       "  <thead>\n",
       "    <tr style=\"text-align: right;\">\n",
       "      <th></th>\n",
       "      <th>id_batiment</th>\n",
       "      <th>infra_id</th>\n",
       "      <th>infra_type</th>\n",
       "    </tr>\n",
       "  </thead>\n",
       "  <tbody>\n",
       "    <tr>\n",
       "      <th>count</th>\n",
       "      <td>537</td>\n",
       "      <td>537</td>\n",
       "      <td>537</td>\n",
       "    </tr>\n",
       "    <tr>\n",
       "      <th>unique</th>\n",
       "      <td>85</td>\n",
       "      <td>197</td>\n",
       "      <td>1</td>\n",
       "    </tr>\n",
       "    <tr>\n",
       "      <th>top</th>\n",
       "      <td>E000371</td>\n",
       "      <td>P005100</td>\n",
       "      <td>a_remplacer</td>\n",
       "    </tr>\n",
       "    <tr>\n",
       "      <th>freq</th>\n",
       "      <td>19</td>\n",
       "      <td>32</td>\n",
       "      <td>537</td>\n",
       "    </tr>\n",
       "  </tbody>\n",
       "</table>\n",
       "</div>"
      ],
      "text/plain": [
       "       id_batiment infra_id   infra_type\n",
       "count          537      537          537\n",
       "unique          85      197            1\n",
       "top        E000371  P005100  a_remplacer\n",
       "freq            19       32          537"
      ]
     },
     "execution_count": 22,
     "metadata": {},
     "output_type": "execute_result"
    }
   ],
   "source": [
    "#Analyse Statistique sur les Variables categorielle\n",
    "df_remplacer.describe(include=\"object\")"
   ]
  },
  {
   "cell_type": "code",
   "execution_count": 23,
   "id": "62fac72f",
   "metadata": {},
   "outputs": [],
   "source": [
    "df_group = df_remplacer.groupby(\"id_batiment\")[\"nb_maisons\"].sum()"
   ]
  },
  {
   "cell_type": "code",
   "execution_count": 24,
   "id": "347d9f78",
   "metadata": {},
   "outputs": [
    {
     "data": {
      "text/plain": [
       "id_batiment\n",
       "E000003    3\n",
       "E000067    3\n",
       "E000085    3\n",
       "E000098    2\n",
       "E000106    4\n",
       "Name: nb_maisons, dtype: int64"
      ]
     },
     "execution_count": 24,
     "metadata": {},
     "output_type": "execute_result"
    }
   ],
   "source": [
    "df_group.head()"
   ]
  },
  {
   "cell_type": "markdown",
   "id": "fa8a3f30",
   "metadata": {},
   "source": [
    "# Lecture du Nouveau DataFrame "
   ]
  },
  {
   "cell_type": "code",
   "execution_count": 31,
   "id": "180ba0a3",
   "metadata": {},
   "outputs": [],
   "source": [
    "#Lecture du Dataframe infra\n",
    "df_infra = pd.read_csv(\"infra.csv\")"
   ]
  },
  {
   "cell_type": "code",
   "execution_count": 33,
   "id": "68da5415",
   "metadata": {},
   "outputs": [
    {
     "data": {
      "text/html": [
       "<div>\n",
       "<style scoped>\n",
       "    .dataframe tbody tr th:only-of-type {\n",
       "        vertical-align: middle;\n",
       "    }\n",
       "\n",
       "    .dataframe tbody tr th {\n",
       "        vertical-align: top;\n",
       "    }\n",
       "\n",
       "    .dataframe thead th {\n",
       "        text-align: right;\n",
       "    }\n",
       "</style>\n",
       "<table border=\"1\" class=\"dataframe\">\n",
       "  <thead>\n",
       "    <tr style=\"text-align: right;\">\n",
       "      <th></th>\n",
       "      <th>id_infra</th>\n",
       "      <th>type_infra</th>\n",
       "    </tr>\n",
       "  </thead>\n",
       "  <tbody>\n",
       "    <tr>\n",
       "      <th>0</th>\n",
       "      <td>P000719</td>\n",
       "      <td>aerien</td>\n",
       "    </tr>\n",
       "    <tr>\n",
       "      <th>1</th>\n",
       "      <td>P007118</td>\n",
       "      <td>aerien</td>\n",
       "    </tr>\n",
       "    <tr>\n",
       "      <th>2</th>\n",
       "      <td>P007170</td>\n",
       "      <td>fourreau</td>\n",
       "    </tr>\n",
       "    <tr>\n",
       "      <th>3</th>\n",
       "      <td>P007648</td>\n",
       "      <td>aerien</td>\n",
       "    </tr>\n",
       "    <tr>\n",
       "      <th>4</th>\n",
       "      <td>P000306</td>\n",
       "      <td>aerien</td>\n",
       "    </tr>\n",
       "  </tbody>\n",
       "</table>\n",
       "</div>"
      ],
      "text/plain": [
       "  id_infra type_infra\n",
       "0  P000719     aerien\n",
       "1  P007118     aerien\n",
       "2  P007170   fourreau\n",
       "3  P007648     aerien\n",
       "4  P000306     aerien"
      ]
     },
     "execution_count": 33,
     "metadata": {},
     "output_type": "execute_result"
    }
   ],
   "source": [
    "df_infra.head()"
   ]
  },
  {
   "cell_type": "code",
   "execution_count": 34,
   "id": "c677bd6e",
   "metadata": {},
   "outputs": [
    {
     "data": {
      "text/plain": [
       "type_infra\n",
       "aerien         369\n",
       "fourreau       197\n",
       "semi-aerien     78\n",
       "Name: type_infra, dtype: int64"
      ]
     },
     "execution_count": 34,
     "metadata": {},
     "output_type": "execute_result"
    }
   ],
   "source": [
    "#compte le nombre le nombre de chaque element contenue dans la type_infra\n",
    "df_infra.groupby(\"type_infra\")[\"type_infra\"].count()"
   ]
  },
  {
   "cell_type": "code",
   "execution_count": 35,
   "id": "88149b9f",
   "metadata": {},
   "outputs": [
    {
     "data": {
      "text/plain": [
       "(644, 2)"
      ]
     },
     "execution_count": 35,
     "metadata": {},
     "output_type": "execute_result"
    }
   ],
   "source": [
    "#verification de nombre de ligne et ccolone de mon df_infra\n",
    "df_infra.shape"
   ]
  },
  {
   "cell_type": "code",
   "execution_count": 29,
   "id": "bc611ecc",
   "metadata": {},
   "outputs": [
    {
     "name": "stdout",
     "output_type": "stream",
     "text": [
      "On a pas de valeur Manq:\n",
      " id_infra      0\n",
      "type_infra    0\n",
      "dtype: int64\n"
     ]
    }
   ],
   "source": [
    "#verification s'il y'a des valeurs manquant\n",
    "print(\"On a pas de valeur Manq:\\n\",df_infra.isna().sum())"
   ]
  },
  {
   "cell_type": "code",
   "execution_count": 36,
   "id": "15a8e559",
   "metadata": {},
   "outputs": [
    {
     "data": {
      "text/plain": [
       "0"
      ]
     },
     "execution_count": 36,
     "metadata": {},
     "output_type": "execute_result"
    }
   ],
   "source": [
    "#verification s'il y'a des doublant ou pas\n",
    "df_infra.duplicated().sum()"
   ]
  },
  {
   "cell_type": "markdown",
   "id": "eaf5c439",
   "metadata": {},
   "source": [
    "# Analyse statistique de df_infra\n"
   ]
  },
  {
   "cell_type": "code",
   "execution_count": 37,
   "id": "1a00900f",
   "metadata": {},
   "outputs": [
    {
     "data": {
      "text/html": [
       "<div>\n",
       "<style scoped>\n",
       "    .dataframe tbody tr th:only-of-type {\n",
       "        vertical-align: middle;\n",
       "    }\n",
       "\n",
       "    .dataframe tbody tr th {\n",
       "        vertical-align: top;\n",
       "    }\n",
       "\n",
       "    .dataframe thead th {\n",
       "        text-align: right;\n",
       "    }\n",
       "</style>\n",
       "<table border=\"1\" class=\"dataframe\">\n",
       "  <thead>\n",
       "    <tr style=\"text-align: right;\">\n",
       "      <th></th>\n",
       "      <th>id_infra</th>\n",
       "      <th>type_infra</th>\n",
       "    </tr>\n",
       "  </thead>\n",
       "  <tbody>\n",
       "    <tr>\n",
       "      <th>count</th>\n",
       "      <td>644</td>\n",
       "      <td>644</td>\n",
       "    </tr>\n",
       "    <tr>\n",
       "      <th>unique</th>\n",
       "      <td>644</td>\n",
       "      <td>3</td>\n",
       "    </tr>\n",
       "    <tr>\n",
       "      <th>top</th>\n",
       "      <td>P000719</td>\n",
       "      <td>aerien</td>\n",
       "    </tr>\n",
       "    <tr>\n",
       "      <th>freq</th>\n",
       "      <td>1</td>\n",
       "      <td>369</td>\n",
       "    </tr>\n",
       "  </tbody>\n",
       "</table>\n",
       "</div>"
      ],
      "text/plain": [
       "       id_infra type_infra\n",
       "count       644        644\n",
       "unique      644          3\n",
       "top     P000719     aerien\n",
       "freq          1        369"
      ]
     },
     "execution_count": 37,
     "metadata": {},
     "output_type": "execute_result"
    }
   ],
   "source": [
    "#comme c'est sont des variable categorielle on aura donc:\n",
    "df_infra.describe(include=\"object\")"
   ]
  },
  {
   "cell_type": "markdown",
   "id": "71674c1a",
   "metadata": {},
   "source": [
    "# Analyse de notre 3 eme Dataframe"
   ]
  },
  {
   "cell_type": "code",
   "execution_count": 38,
   "id": "1a4a4242",
   "metadata": {},
   "outputs": [],
   "source": [
    "#lecture du dataFrame\n",
    "df_batiment = pd.read_csv(\"batiments.csv\")"
   ]
  },
  {
   "cell_type": "code",
   "execution_count": 39,
   "id": "3ff9db2d",
   "metadata": {},
   "outputs": [
    {
     "data": {
      "text/html": [
       "<div>\n",
       "<style scoped>\n",
       "    .dataframe tbody tr th:only-of-type {\n",
       "        vertical-align: middle;\n",
       "    }\n",
       "\n",
       "    .dataframe tbody tr th {\n",
       "        vertical-align: top;\n",
       "    }\n",
       "\n",
       "    .dataframe thead th {\n",
       "        text-align: right;\n",
       "    }\n",
       "</style>\n",
       "<table border=\"1\" class=\"dataframe\">\n",
       "  <thead>\n",
       "    <tr style=\"text-align: right;\">\n",
       "      <th></th>\n",
       "      <th>id_batiment</th>\n",
       "      <th>type_batiment</th>\n",
       "      <th>nb_maisons</th>\n",
       "    </tr>\n",
       "  </thead>\n",
       "  <tbody>\n",
       "    <tr>\n",
       "      <th>0</th>\n",
       "      <td>E000160</td>\n",
       "      <td>habitation</td>\n",
       "      <td>8</td>\n",
       "    </tr>\n",
       "    <tr>\n",
       "      <th>1</th>\n",
       "      <td>E000367</td>\n",
       "      <td>habitation</td>\n",
       "      <td>3</td>\n",
       "    </tr>\n",
       "    <tr>\n",
       "      <th>2</th>\n",
       "      <td>E000032</td>\n",
       "      <td>habitation</td>\n",
       "      <td>1</td>\n",
       "    </tr>\n",
       "    <tr>\n",
       "      <th>3</th>\n",
       "      <td>E000017</td>\n",
       "      <td>habitation</td>\n",
       "      <td>7</td>\n",
       "    </tr>\n",
       "    <tr>\n",
       "      <th>4</th>\n",
       "      <td>E000339</td>\n",
       "      <td>habitation</td>\n",
       "      <td>1</td>\n",
       "    </tr>\n",
       "  </tbody>\n",
       "</table>\n",
       "</div>"
      ],
      "text/plain": [
       "  id_batiment type_batiment  nb_maisons\n",
       "0     E000160    habitation           8\n",
       "1     E000367    habitation           3\n",
       "2     E000032    habitation           1\n",
       "3     E000017    habitation           7\n",
       "4     E000339    habitation           1"
      ]
     },
     "execution_count": 39,
     "metadata": {},
     "output_type": "execute_result"
    }
   ],
   "source": [
    "df_batiment.head()"
   ]
  },
  {
   "cell_type": "code",
   "execution_count": 40,
   "id": "641c8de6",
   "metadata": {},
   "outputs": [
    {
     "name": "stdout",
     "output_type": "stream",
     "text": [
      "il y'a\n",
      " 0 doublant\n",
      "et\n",
      "id_batiment      0\n",
      "type_batiment    0\n",
      "nb_maisons       0\n",
      "dtype: int64 Val Manq\n",
      "\n"
     ]
    }
   ],
   "source": [
    "#verification des doublant et val Manq\n",
    "print(\"il y'a\\n\",df_batiment.duplicated().sum(),\"doublant\\net\")\n",
    "print(df_batiment.isna().sum(),\"Val Manq\\n\")"
   ]
  },
  {
   "cell_type": "code",
   "execution_count": 41,
   "id": "c0e6a9fd",
   "metadata": {},
   "outputs": [
    {
     "data": {
      "text/plain": [
       "(381, 3)"
      ]
     },
     "execution_count": 41,
     "metadata": {},
     "output_type": "execute_result"
    }
   ],
   "source": [
    "df_batiment.shape"
   ]
  },
  {
   "cell_type": "code",
   "execution_count": 42,
   "id": "c89841b3",
   "metadata": {},
   "outputs": [
    {
     "data": {
      "text/plain": [
       "type_batiment\n",
       "habitation    379\n",
       "hôpital         1\n",
       "école           1\n",
       "Name: count, dtype: int64"
      ]
     },
     "execution_count": 42,
     "metadata": {},
     "output_type": "execute_result"
    }
   ],
   "source": [
    "#compter le nombre d'hopitaux, habitation et ecole\n",
    "df_batiment[\"type_batiment\"].value_counts()"
   ]
  },
  {
   "cell_type": "code",
   "execution_count": 43,
   "id": "7bd697ac",
   "metadata": {},
   "outputs": [
    {
     "data": {
      "text/html": [
       "<div>\n",
       "<style scoped>\n",
       "    .dataframe tbody tr th:only-of-type {\n",
       "        vertical-align: middle;\n",
       "    }\n",
       "\n",
       "    .dataframe tbody tr th {\n",
       "        vertical-align: top;\n",
       "    }\n",
       "\n",
       "    .dataframe thead th {\n",
       "        text-align: right;\n",
       "    }\n",
       "</style>\n",
       "<table border=\"1\" class=\"dataframe\">\n",
       "  <thead>\n",
       "    <tr style=\"text-align: right;\">\n",
       "      <th></th>\n",
       "      <th>id_batiment</th>\n",
       "      <th>type_batiment</th>\n",
       "      <th>nb_maisons</th>\n",
       "    </tr>\n",
       "  </thead>\n",
       "  <tbody>\n",
       "    <tr>\n",
       "      <th>67</th>\n",
       "      <td>E000085</td>\n",
       "      <td>hôpital</td>\n",
       "      <td>1</td>\n",
       "    </tr>\n",
       "  </tbody>\n",
       "</table>\n",
       "</div>"
      ],
      "text/plain": [
       "   id_batiment type_batiment  nb_maisons\n",
       "67     E000085       hôpital           1"
      ]
     },
     "execution_count": 43,
     "metadata": {},
     "output_type": "execute_result"
    }
   ],
   "source": [
    "#l'hopital etant une prioriter cherchant les batiment qui ont des hopitaux\n",
    "df_batiment[df_batiment[\"type_batiment\"]==\"hôpital\"].head()"
   ]
  },
  {
   "cell_type": "code",
   "execution_count": 44,
   "id": "eaf8d09e",
   "metadata": {
    "scrolled": true
   },
   "outputs": [
    {
     "data": {
      "text/html": [
       "<div>\n",
       "<style scoped>\n",
       "    .dataframe tbody tr th:only-of-type {\n",
       "        vertical-align: middle;\n",
       "    }\n",
       "\n",
       "    .dataframe tbody tr th {\n",
       "        vertical-align: top;\n",
       "    }\n",
       "\n",
       "    .dataframe thead th {\n",
       "        text-align: right;\n",
       "    }\n",
       "</style>\n",
       "<table border=\"1\" class=\"dataframe\">\n",
       "  <thead>\n",
       "    <tr style=\"text-align: right;\">\n",
       "      <th></th>\n",
       "      <th>id_batiment</th>\n",
       "      <th>type_batiment</th>\n",
       "      <th>nb_maisons</th>\n",
       "    </tr>\n",
       "  </thead>\n",
       "  <tbody>\n",
       "    <tr>\n",
       "      <th>172</th>\n",
       "      <td>E000106</td>\n",
       "      <td>école</td>\n",
       "      <td>1</td>\n",
       "    </tr>\n",
       "  </tbody>\n",
       "</table>\n",
       "</div>"
      ],
      "text/plain": [
       "    id_batiment type_batiment  nb_maisons\n",
       "172     E000106         école           1"
      ]
     },
     "execution_count": 44,
     "metadata": {},
     "output_type": "execute_result"
    }
   ],
   "source": [
    "# L'ecole etant notre deuxieme prioriter cherchant les batiments qui ont des ecoles\n",
    "df_batiment[df_batiment[\"type_batiment\"]==\"école\"].head()"
   ]
  },
  {
   "cell_type": "code",
   "execution_count": 45,
   "id": "1febba41",
   "metadata": {},
   "outputs": [],
   "source": [
    "#Jé fais une jointure des trois Dataframe\n",
    "# jointure entre le df principal et les types d'infrastructure\n",
    "df_merge1 = df_prop.merge(df_infra, left_on='infra_id', right_on='id_infra', how='left')\n",
    "\n",
    "# jointure avec les infos des bâtiments\n",
    "df_final = df_merge1.merge(df_batiment, on='id_batiment', how='left')"
   ]
  },
  {
   "cell_type": "code",
   "execution_count": 46,
   "id": "e168018f",
   "metadata": {
    "scrolled": false
   },
   "outputs": [
    {
     "data": {
      "text/html": [
       "<div>\n",
       "<style scoped>\n",
       "    .dataframe tbody tr th:only-of-type {\n",
       "        vertical-align: middle;\n",
       "    }\n",
       "\n",
       "    .dataframe tbody tr th {\n",
       "        vertical-align: top;\n",
       "    }\n",
       "\n",
       "    .dataframe thead th {\n",
       "        text-align: right;\n",
       "    }\n",
       "</style>\n",
       "<table border=\"1\" class=\"dataframe\">\n",
       "  <thead>\n",
       "    <tr style=\"text-align: right;\">\n",
       "      <th></th>\n",
       "      <th>id_batiment</th>\n",
       "      <th>nb_maisons_x</th>\n",
       "      <th>infra_id</th>\n",
       "      <th>infra_type</th>\n",
       "      <th>longueur</th>\n",
       "      <th>id_infra</th>\n",
       "      <th>type_infra</th>\n",
       "      <th>type_batiment</th>\n",
       "      <th>nb_maisons_y</th>\n",
       "    </tr>\n",
       "  </thead>\n",
       "  <tbody>\n",
       "    <tr>\n",
       "      <th>0</th>\n",
       "      <td>E000001</td>\n",
       "      <td>4</td>\n",
       "      <td>P007111</td>\n",
       "      <td>infra_intacte</td>\n",
       "      <td>12.314461</td>\n",
       "      <td>P007111</td>\n",
       "      <td>fourreau</td>\n",
       "      <td>habitation</td>\n",
       "      <td>3</td>\n",
       "    </tr>\n",
       "    <tr>\n",
       "      <th>1</th>\n",
       "      <td>E000001</td>\n",
       "      <td>4</td>\n",
       "      <td>P007983</td>\n",
       "      <td>infra_intacte</td>\n",
       "      <td>40.320929</td>\n",
       "      <td>P007983</td>\n",
       "      <td>aerien</td>\n",
       "      <td>habitation</td>\n",
       "      <td>3</td>\n",
       "    </tr>\n",
       "    <tr>\n",
       "      <th>2</th>\n",
       "      <td>E000001</td>\n",
       "      <td>4</td>\n",
       "      <td>P000308</td>\n",
       "      <td>infra_intacte</td>\n",
       "      <td>39.140799</td>\n",
       "      <td>P000308</td>\n",
       "      <td>fourreau</td>\n",
       "      <td>habitation</td>\n",
       "      <td>3</td>\n",
       "    </tr>\n",
       "    <tr>\n",
       "      <th>3</th>\n",
       "      <td>E000001</td>\n",
       "      <td>4</td>\n",
       "      <td>P007819</td>\n",
       "      <td>infra_intacte</td>\n",
       "      <td>17.390464</td>\n",
       "      <td>P007819</td>\n",
       "      <td>fourreau</td>\n",
       "      <td>habitation</td>\n",
       "      <td>3</td>\n",
       "    </tr>\n",
       "    <tr>\n",
       "      <th>4</th>\n",
       "      <td>E000002</td>\n",
       "      <td>1</td>\n",
       "      <td>P007111</td>\n",
       "      <td>infra_intacte</td>\n",
       "      <td>12.314461</td>\n",
       "      <td>P007111</td>\n",
       "      <td>fourreau</td>\n",
       "      <td>habitation</td>\n",
       "      <td>3</td>\n",
       "    </tr>\n",
       "  </tbody>\n",
       "</table>\n",
       "</div>"
      ],
      "text/plain": [
       "  id_batiment  nb_maisons_x infra_id     infra_type   longueur id_infra  \\\n",
       "0     E000001             4  P007111  infra_intacte  12.314461  P007111   \n",
       "1     E000001             4  P007983  infra_intacte  40.320929  P007983   \n",
       "2     E000001             4  P000308  infra_intacte  39.140799  P000308   \n",
       "3     E000001             4  P007819  infra_intacte  17.390464  P007819   \n",
       "4     E000002             1  P007111  infra_intacte  12.314461  P007111   \n",
       "\n",
       "  type_infra type_batiment  nb_maisons_y  \n",
       "0   fourreau    habitation             3  \n",
       "1     aerien    habitation             3  \n",
       "2   fourreau    habitation             3  \n",
       "3   fourreau    habitation             3  \n",
       "4   fourreau    habitation             3  "
      ]
     },
     "execution_count": 46,
     "metadata": {},
     "output_type": "execute_result"
    }
   ],
   "source": [
    "#Analyse de mon DataFrame finale\n",
    "df_final.head()"
   ]
  },
  {
   "cell_type": "code",
   "execution_count": 57,
   "id": "b7da72b5",
   "metadata": {},
   "outputs": [
    {
     "data": {
      "text/plain": [
       "count    5586.000000\n",
       "mean        4.341747\n",
       "std         2.287822\n",
       "min         1.000000\n",
       "25%         2.000000\n",
       "50%         4.000000\n",
       "75%         6.000000\n",
       "max         8.000000\n",
       "Name: nb_maisons_y, dtype: float64"
      ]
     },
     "execution_count": 57,
     "metadata": {},
     "output_type": "execute_result"
    }
   ],
   "source": [
    "df_final[\"nb_maisons_y\"].describe()"
   ]
  },
  {
   "cell_type": "code",
   "execution_count": 53,
   "id": "9998da02",
   "metadata": {},
   "outputs": [
    {
     "data": {
      "text/plain": [
       "(5586, 9)"
      ]
     },
     "execution_count": 53,
     "metadata": {},
     "output_type": "execute_result"
    }
   ],
   "source": [
    "df_final.shape"
   ]
  },
  {
   "cell_type": "code",
   "execution_count": 48,
   "id": "57a1f3ff",
   "metadata": {},
   "outputs": [
    {
     "name": "stdout",
     "output_type": "stream",
     "text": [
      "On a\n",
      " 0 doublant dans notre df finale\n"
     ]
    }
   ],
   "source": [
    "#verification des doublants\n",
    "print(\"On a\\n\",df_final.duplicated().sum(),\"doublant dans notre df finale\")"
   ]
  },
  {
   "cell_type": "code",
   "execution_count": 64,
   "id": "3e01542d",
   "metadata": {
    "scrolled": false
   },
   "outputs": [
    {
     "name": "stdout",
     "output_type": "stream",
     "text": [
      "on a\n",
      " id_batiment      0\n",
      "nb_maisons_x     0\n",
      "infra_id         0\n",
      "infra_type       0\n",
      "longueur         0\n",
      "id_infra         0\n",
      "type_infra       0\n",
      "type_batiment    0\n",
      "nb_maisons_y     0\n",
      "dtype: int64 Val Manq Dans notre df_final\n"
     ]
    }
   ],
   "source": [
    "#verification des Val Manq\n",
    "print(\"on a\\n\",df_final.isna().sum(),\"Val Manq Dans notre df_final\")"
   ]
  },
  {
   "cell_type": "code",
   "execution_count": 65,
   "id": "7b517b14",
   "metadata": {},
   "outputs": [
    {
     "data": {
      "image/png": "[encoded data removed]",
      "text/plain": [
       "<Figure size 640x480 with 1 Axes>"
      ]
     },
     "metadata": {},
     "output_type": "display_data"
    }
   ],
   "source": [
    "#Visualisation apres jointure\n",
    "#premiere visualisation du de type_infra\n",
    "\n",
    "df_final['infra_type'].value_counts().plot(kind='bar', color=[\"green\",\"red\"])\n",
    "\n",
    "plt.title(\"Répartition des types d'infrastructures\")\n",
    "plt.xlabel(\"Type d'infrastructure\")\n",
    "plt.ylabel(\"Nombre d'occurrences\")\n",
    "plt.show()"
   ]
  },
  {
   "cell_type": "markdown",
   "id": "e271e9a2",
   "metadata": {},
   "source": [
    "# Les données suplémentaire apporte l'information sur exactitide du nombre de Maison \n",
    "# on va donc suprimer dans notre df_final la colone nb_maisons_x du premier dataFrame"
   ]
  },
  {
   "cell_type": "code",
   "execution_count": 52,
   "id": "d2becfd4",
   "metadata": {
    "scrolled": true
   },
   "outputs": [
    {
     "data": {
      "text/html": [
       "<div>\n",
       "<style scoped>\n",
       "    .dataframe tbody tr th:only-of-type {\n",
       "        vertical-align: middle;\n",
       "    }\n",
       "\n",
       "    .dataframe tbody tr th {\n",
       "        vertical-align: top;\n",
       "    }\n",
       "\n",
       "    .dataframe thead th {\n",
       "        text-align: right;\n",
       "    }\n",
       "</style>\n",
       "<table border=\"1\" class=\"dataframe\">\n",
       "  <thead>\n",
       "    <tr style=\"text-align: right;\">\n",
       "      <th></th>\n",
       "      <th>id_batiment</th>\n",
       "      <th>infra_id</th>\n",
       "      <th>infra_type</th>\n",
       "      <th>longueur</th>\n",
       "      <th>id_infra</th>\n",
       "      <th>type_infra</th>\n",
       "      <th>type_batiment</th>\n",
       "      <th>nb_maisons_y</th>\n",
       "    </tr>\n",
       "  </thead>\n",
       "  <tbody>\n",
       "    <tr>\n",
       "      <th>0</th>\n",
       "      <td>E000001</td>\n",
       "      <td>P007111</td>\n",
       "      <td>infra_intacte</td>\n",
       "      <td>12.314461</td>\n",
       "      <td>P007111</td>\n",
       "      <td>fourreau</td>\n",
       "      <td>habitation</td>\n",
       "      <td>3</td>\n",
       "    </tr>\n",
       "    <tr>\n",
       "      <th>1</th>\n",
       "      <td>E000001</td>\n",
       "      <td>P007983</td>\n",
       "      <td>infra_intacte</td>\n",
       "      <td>40.320929</td>\n",
       "      <td>P007983</td>\n",
       "      <td>aerien</td>\n",
       "      <td>habitation</td>\n",
       "      <td>3</td>\n",
       "    </tr>\n",
       "    <tr>\n",
       "      <th>2</th>\n",
       "      <td>E000001</td>\n",
       "      <td>P000308</td>\n",
       "      <td>infra_intacte</td>\n",
       "      <td>39.140799</td>\n",
       "      <td>P000308</td>\n",
       "      <td>fourreau</td>\n",
       "      <td>habitation</td>\n",
       "      <td>3</td>\n",
       "    </tr>\n",
       "    <tr>\n",
       "      <th>3</th>\n",
       "      <td>E000001</td>\n",
       "      <td>P007819</td>\n",
       "      <td>infra_intacte</td>\n",
       "      <td>17.390464</td>\n",
       "      <td>P007819</td>\n",
       "      <td>fourreau</td>\n",
       "      <td>habitation</td>\n",
       "      <td>3</td>\n",
       "    </tr>\n",
       "    <tr>\n",
       "      <th>4</th>\n",
       "      <td>E000002</td>\n",
       "      <td>P007111</td>\n",
       "      <td>infra_intacte</td>\n",
       "      <td>12.314461</td>\n",
       "      <td>P007111</td>\n",
       "      <td>fourreau</td>\n",
       "      <td>habitation</td>\n",
       "      <td>3</td>\n",
       "    </tr>\n",
       "    <tr>\n",
       "      <th>...</th>\n",
       "      <td>...</td>\n",
       "      <td>...</td>\n",
       "      <td>...</td>\n",
       "      <td>...</td>\n",
       "      <td>...</td>\n",
       "      <td>...</td>\n",
       "      <td>...</td>\n",
       "      <td>...</td>\n",
       "    </tr>\n",
       "    <tr>\n",
       "      <th>5581</th>\n",
       "      <td>E000381</td>\n",
       "      <td>P008032</td>\n",
       "      <td>a_remplacer</td>\n",
       "      <td>10.520975</td>\n",
       "      <td>P008032</td>\n",
       "      <td>aerien</td>\n",
       "      <td>habitation</td>\n",
       "      <td>8</td>\n",
       "    </tr>\n",
       "    <tr>\n",
       "      <th>5582</th>\n",
       "      <td>E000381</td>\n",
       "      <td>P008035</td>\n",
       "      <td>a_remplacer</td>\n",
       "      <td>11.719759</td>\n",
       "      <td>P008035</td>\n",
       "      <td>aerien</td>\n",
       "      <td>habitation</td>\n",
       "      <td>8</td>\n",
       "    </tr>\n",
       "    <tr>\n",
       "      <th>5583</th>\n",
       "      <td>E000381</td>\n",
       "      <td>P004234</td>\n",
       "      <td>a_remplacer</td>\n",
       "      <td>13.484903</td>\n",
       "      <td>P004234</td>\n",
       "      <td>aerien</td>\n",
       "      <td>habitation</td>\n",
       "      <td>8</td>\n",
       "    </tr>\n",
       "    <tr>\n",
       "      <th>5584</th>\n",
       "      <td>E000381</td>\n",
       "      <td>P008036</td>\n",
       "      <td>a_remplacer</td>\n",
       "      <td>7.441760</td>\n",
       "      <td>P008036</td>\n",
       "      <td>semi-aerien</td>\n",
       "      <td>habitation</td>\n",
       "      <td>8</td>\n",
       "    </tr>\n",
       "    <tr>\n",
       "      <th>5585</th>\n",
       "      <td>E000381</td>\n",
       "      <td>P007459</td>\n",
       "      <td>a_remplacer</td>\n",
       "      <td>9.865358</td>\n",
       "      <td>P007459</td>\n",
       "      <td>aerien</td>\n",
       "      <td>habitation</td>\n",
       "      <td>8</td>\n",
       "    </tr>\n",
       "  </tbody>\n",
       "</table>\n",
       "<p>5586 rows × 8 columns</p>\n",
       "</div>"
      ],
      "text/plain": [
       "     id_batiment infra_id     infra_type   longueur id_infra   type_infra  \\\n",
       "0        E000001  P007111  infra_intacte  12.314461  P007111     fourreau   \n",
       "1        E000001  P007983  infra_intacte  40.320929  P007983       aerien   \n",
       "2        E000001  P000308  infra_intacte  39.140799  P000308     fourreau   \n",
       "3        E000001  P007819  infra_intacte  17.390464  P007819     fourreau   \n",
       "4        E000002  P007111  infra_intacte  12.314461  P007111     fourreau   \n",
       "...          ...      ...            ...        ...      ...          ...   \n",
       "5581     E000381  P008032    a_remplacer  10.520975  P008032       aerien   \n",
       "5582     E000381  P008035    a_remplacer  11.719759  P008035       aerien   \n",
       "5583     E000381  P004234    a_remplacer  13.484903  P004234       aerien   \n",
       "5584     E000381  P008036    a_remplacer   7.441760  P008036  semi-aerien   \n",
       "5585     E000381  P007459    a_remplacer   9.865358  P007459       aerien   \n",
       "\n",
       "     type_batiment  nb_maisons_y  \n",
       "0       habitation             3  \n",
       "1       habitation             3  \n",
       "2       habitation             3  \n",
       "3       habitation             3  \n",
       "4       habitation             3  \n",
       "...            ...           ...  \n",
       "5581    habitation             8  \n",
       "5582    habitation             8  \n",
       "5583    habitation             8  \n",
       "5584    habitation             8  \n",
       "5585    habitation             8  \n",
       "\n",
       "[5586 rows x 8 columns]"
      ]
     },
     "execution_count": 52,
     "metadata": {},
     "output_type": "execute_result"
    }
   ],
   "source": [
    "#supression de la colone nb_maisons_x\n",
    "df_finale = df_final.drop(columns=[\"nb_maisons_x\"])\n",
    "df_finale"
   ]
  },
  {
   "cell_type": "code",
   "execution_count": 71,
   "id": "858b78e7",
   "metadata": {},
   "outputs": [
    {
     "data": {
      "image/png": "[encoded data removed]",
      "text/plain": [
       "<Figure size 640x480 with 1 Axes>"
      ]
     },
     "metadata": {},
     "output_type": "display_data"
    }
   ],
   "source": [
    "#Visualisation de nombre type de batiment apres jointure\n",
    "#premiere visualisation du de type_infra\n",
    "\n",
    "df_finale['type_batiment'].value_counts().plot(kind='bar', color=[\"green\",\"yellow\",\"red\"])\n",
    "\n",
    "plt.title(\"Répartition des types d'infrastructures\")\n",
    "plt.xlabel(\"Type d'infrastructure\")\n",
    "plt.ylabel(\"Nombre d'occurrences\")\n",
    "plt.show()"
   ]
  },
  {
   "cell_type": "code",
   "execution_count": 69,
   "id": "25207340",
   "metadata": {
    "scrolled": true
   },
   "outputs": [
    {
     "data": {
      "text/html": [
       "<div>\n",
       "<style scoped>\n",
       "    .dataframe tbody tr th:only-of-type {\n",
       "        vertical-align: middle;\n",
       "    }\n",
       "\n",
       "    .dataframe tbody tr th {\n",
       "        vertical-align: top;\n",
       "    }\n",
       "\n",
       "    .dataframe thead th {\n",
       "        text-align: right;\n",
       "    }\n",
       "</style>\n",
       "<table border=\"1\" class=\"dataframe\">\n",
       "  <thead>\n",
       "    <tr style=\"text-align: right;\">\n",
       "      <th></th>\n",
       "      <th>id_batiment</th>\n",
       "      <th>infra_id</th>\n",
       "      <th>infra_type</th>\n",
       "      <th>longueur</th>\n",
       "      <th>id_infra</th>\n",
       "      <th>type_infra</th>\n",
       "      <th>type_batiment</th>\n",
       "      <th>nb_maisons_y</th>\n",
       "    </tr>\n",
       "  </thead>\n",
       "  <tbody>\n",
       "    <tr>\n",
       "      <th>9</th>\n",
       "      <td>E000003</td>\n",
       "      <td>P007113</td>\n",
       "      <td>a_remplacer</td>\n",
       "      <td>12.193509</td>\n",
       "      <td>P007113</td>\n",
       "      <td>aerien</td>\n",
       "      <td>habitation</td>\n",
       "      <td>1</td>\n",
       "    </tr>\n",
       "    <tr>\n",
       "      <th>10</th>\n",
       "      <td>E000003</td>\n",
       "      <td>P007984</td>\n",
       "      <td>a_remplacer</td>\n",
       "      <td>30.057598</td>\n",
       "      <td>P007984</td>\n",
       "      <td>aerien</td>\n",
       "      <td>habitation</td>\n",
       "      <td>1</td>\n",
       "    </tr>\n",
       "    <tr>\n",
       "      <th>11</th>\n",
       "      <td>E000003</td>\n",
       "      <td>P007823</td>\n",
       "      <td>a_remplacer</td>\n",
       "      <td>12.290283</td>\n",
       "      <td>P007823</td>\n",
       "      <td>aerien</td>\n",
       "      <td>habitation</td>\n",
       "      <td>1</td>\n",
       "    </tr>\n",
       "    <tr>\n",
       "      <th>426</th>\n",
       "      <td>E000067</td>\n",
       "      <td>P006193</td>\n",
       "      <td>a_remplacer</td>\n",
       "      <td>12.186388</td>\n",
       "      <td>P006193</td>\n",
       "      <td>fourreau</td>\n",
       "      <td>habitation</td>\n",
       "      <td>4</td>\n",
       "    </tr>\n",
       "    <tr>\n",
       "      <th>427</th>\n",
       "      <td>E000067</td>\n",
       "      <td>P002851</td>\n",
       "      <td>a_remplacer</td>\n",
       "      <td>10.803202</td>\n",
       "      <td>P002851</td>\n",
       "      <td>semi-aerien</td>\n",
       "      <td>habitation</td>\n",
       "      <td>4</td>\n",
       "    </tr>\n",
       "    <tr>\n",
       "      <th>...</th>\n",
       "      <td>...</td>\n",
       "      <td>...</td>\n",
       "      <td>...</td>\n",
       "      <td>...</td>\n",
       "      <td>...</td>\n",
       "      <td>...</td>\n",
       "      <td>...</td>\n",
       "      <td>...</td>\n",
       "    </tr>\n",
       "    <tr>\n",
       "      <th>5581</th>\n",
       "      <td>E000381</td>\n",
       "      <td>P008032</td>\n",
       "      <td>a_remplacer</td>\n",
       "      <td>10.520975</td>\n",
       "      <td>P008032</td>\n",
       "      <td>aerien</td>\n",
       "      <td>habitation</td>\n",
       "      <td>8</td>\n",
       "    </tr>\n",
       "    <tr>\n",
       "      <th>5582</th>\n",
       "      <td>E000381</td>\n",
       "      <td>P008035</td>\n",
       "      <td>a_remplacer</td>\n",
       "      <td>11.719759</td>\n",
       "      <td>P008035</td>\n",
       "      <td>aerien</td>\n",
       "      <td>habitation</td>\n",
       "      <td>8</td>\n",
       "    </tr>\n",
       "    <tr>\n",
       "      <th>5583</th>\n",
       "      <td>E000381</td>\n",
       "      <td>P004234</td>\n",
       "      <td>a_remplacer</td>\n",
       "      <td>13.484903</td>\n",
       "      <td>P004234</td>\n",
       "      <td>aerien</td>\n",
       "      <td>habitation</td>\n",
       "      <td>8</td>\n",
       "    </tr>\n",
       "    <tr>\n",
       "      <th>5584</th>\n",
       "      <td>E000381</td>\n",
       "      <td>P008036</td>\n",
       "      <td>a_remplacer</td>\n",
       "      <td>7.441760</td>\n",
       "      <td>P008036</td>\n",
       "      <td>semi-aerien</td>\n",
       "      <td>habitation</td>\n",
       "      <td>8</td>\n",
       "    </tr>\n",
       "    <tr>\n",
       "      <th>5585</th>\n",
       "      <td>E000381</td>\n",
       "      <td>P007459</td>\n",
       "      <td>a_remplacer</td>\n",
       "      <td>9.865358</td>\n",
       "      <td>P007459</td>\n",
       "      <td>aerien</td>\n",
       "      <td>habitation</td>\n",
       "      <td>8</td>\n",
       "    </tr>\n",
       "  </tbody>\n",
       "</table>\n",
       "<p>537 rows × 8 columns</p>\n",
       "</div>"
      ],
      "text/plain": [
       "     id_batiment infra_id   infra_type   longueur id_infra   type_infra  \\\n",
       "9        E000003  P007113  a_remplacer  12.193509  P007113       aerien   \n",
       "10       E000003  P007984  a_remplacer  30.057598  P007984       aerien   \n",
       "11       E000003  P007823  a_remplacer  12.290283  P007823       aerien   \n",
       "426      E000067  P006193  a_remplacer  12.186388  P006193     fourreau   \n",
       "427      E000067  P002851  a_remplacer  10.803202  P002851  semi-aerien   \n",
       "...          ...      ...          ...        ...      ...          ...   \n",
       "5581     E000381  P008032  a_remplacer  10.520975  P008032       aerien   \n",
       "5582     E000381  P008035  a_remplacer  11.719759  P008035       aerien   \n",
       "5583     E000381  P004234  a_remplacer  13.484903  P004234       aerien   \n",
       "5584     E000381  P008036  a_remplacer   7.441760  P008036  semi-aerien   \n",
       "5585     E000381  P007459  a_remplacer   9.865358  P007459       aerien   \n",
       "\n",
       "     type_batiment  nb_maisons_y  \n",
       "9       habitation             1  \n",
       "10      habitation             1  \n",
       "11      habitation             1  \n",
       "426     habitation             4  \n",
       "427     habitation             4  \n",
       "...            ...           ...  \n",
       "5581    habitation             8  \n",
       "5582    habitation             8  \n",
       "5583    habitation             8  \n",
       "5584    habitation             8  \n",
       "5585    habitation             8  \n",
       "\n",
       "[537 rows x 8 columns]"
      ]
     },
     "execution_count": 69,
     "metadata": {},
     "output_type": "execute_result"
    }
   ],
   "source": [
    "#Je filtre sur uniquement sur les colone a remplacer afin de finaliser la modelisation\n",
    "df_remplace = df_finale[df_final['infra_type'] == 'a_remplacer']\n",
    "df_remplace"
   ]
  },
  {
   "cell_type": "code",
   "execution_count": 74,
   "id": "64aa5a54",
   "metadata": {},
   "outputs": [
    {
     "data": {
      "image/png": "[encoded data removed]",
      "text/plain": [
       "<Figure size 640x480 with 1 Axes>"
      ]
     },
     "metadata": {},
     "output_type": "display_data"
    }
   ],
   "source": [
    "#Visualisation de nombre type de batiment à remplacer aprè jointure\n",
    "\n",
    "\n",
    "df_remplace['type_batiment'].value_counts().plot(kind='bar', color=[\"green\",\"yellow\",\"red\"])\n",
    "\n",
    "plt.title(\"Répartition des types des Batiment à remplacer\")\n",
    "plt.xlabel(\"Type de batiment\")\n",
    "plt.ylabel(\"Nombre d'occurrences\")\n",
    "plt.show()"
   ]
  },
  {
   "cell_type": "code",
   "execution_count": 73,
   "id": "33b70db7",
   "metadata": {},
   "outputs": [],
   "source": [
    "with pd.ExcelWriter(\"rapport_complet.xlsx\") as writer:\n",
    "    df_batiment.to_excel(writer, sheet_name=\"Batiments\", index=False)\n",
    "    df_infra.to_excel(writer, sheet_name=\"infra\", index=False)\n",
    "    df_prop.to_excel(writer, sheet_name=\"df_prop\", index=False)"
   ]
  },
  {
   "cell_type": "code",
   "execution_count": 60,
   "id": "60e3c6e9",
   "metadata": {},
   "outputs": [],
   "source": [
    "#Calculons la longuere totale à reparer pour chaque Batiment\n",
    "longueur_p_batiment = df_remplace.groupby('id_batiment')['longueur'].sum().reset_index()\n",
    "longueur_p_batiment.rename(columns={'longueur': 'longueur_a_remplacer'}, inplace=True)"
   ]
  },
  {
   "cell_type": "code",
   "execution_count": 62,
   "id": "b5ce5d93",
   "metadata": {},
   "outputs": [],
   "source": [
    "#Fixassion des priorité\n",
    "priorite = longueur_p_batiment.merge(df_batiment, on='id_batiment', how='left')"
   ]
  },
  {
   "cell_type": "code",
   "execution_count": 63,
   "id": "60eebf63",
   "metadata": {},
   "outputs": [],
   "source": [
    "df_priorite = longueur_p_batiment.merge(df_batiment, on='id_batiment', how='left')\n",
    "\n",
    "# Priorité selon type de bâtiment\n",
    "priorite_batiment = {'hôpital': 3, 'école': 2, 'habitation': 1}\n",
    "df_priorite['priorite_type_batiment'] = df_priorite['type_batiment'].map(priorite_batiment)\n",
    "\n",
    "\n"
   ]
  },
  {
   "cell_type": "code",
   "execution_count": null,
   "id": "9e3e2a9c",
   "metadata": {},
   "outputs": [],
   "source": []
  }
 ],
 "metadata": {
  "kernelspec": {
   "display_name": "Python 3 (ipykernel)",
   "language": "python",
   "name": "python3"
  },
  "language_info": {
   "codemirror_mode": {
    "name": "ipython",
    "version": 3
   },
   "file_extension": ".py",
   "mimetype": "text/x-python",
   "name": "python",
   "nbconvert_exporter": "python",
   "pygments_lexer": "ipython3",
   "version": "3.11.5"
  }
 },
 "nbformat": 4,
 "nbformat_minor": 5
}
